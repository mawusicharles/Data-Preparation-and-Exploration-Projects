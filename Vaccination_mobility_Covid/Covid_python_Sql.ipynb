{
 "cells": [
  {
   "cell_type": "markdown",
   "id": "9ac66688",
   "metadata": {},
   "source": [
    "# Corona Virus (Covid-19) Data Processing \n",
    "## By: Charles MAWUSI\n"
   ]
  },
  {
   "cell_type": "code",
   "execution_count": 5,
   "id": "56c65854",
   "metadata": {},
   "outputs": [
    {
     "name": "stdout",
     "output_type": "stream",
     "text": [
      "Requirement already satisfied: mysql-connector-python in /Users/charlesmawusi/opt/anaconda3/lib/python3.9/site-packages (8.0.29)\r\n",
      "Requirement already satisfied: protobuf>=3.0.0 in /Users/charlesmawusi/opt/anaconda3/lib/python3.9/site-packages (from mysql-connector-python) (4.21.3)\r\n"
     ]
    }
   ],
   "source": [
    "! pip install mysql-connector-python\n",
    "\n",
    "import mysql.connector \n",
    "from mysql.connector import Error \n"
   ]
  },
  {
   "cell_type": "code",
   "execution_count": 9,
   "id": "1905f35c",
   "metadata": {},
   "outputs": [
    {
     "ename": "SyntaxError",
     "evalue": "invalid syntax (3087294635.py, line 3)",
     "output_type": "error",
     "traceback": [
      "\u001b[0;36m  File \u001b[0;32m\"/var/folders/3b/jvvrp_7s1jz8p5_g9p9v60g00000gn/T/ipykernel_35817/3087294635.py\"\u001b[0;36m, line \u001b[0;32m3\u001b[0m\n\u001b[0;31m    user =\"root\"\u001b[0m\n\u001b[0m    ^\u001b[0m\n\u001b[0;31mSyntaxError\u001b[0m\u001b[0;31m:\u001b[0m invalid syntax\n"
     ]
    }
   ],
   "source": [
    "db =mysql.connector.connect(\n",
    "    host =\"localhost \"\n",
    "    user =\"root\"\n",
    "    passwd=\"Kodjofamous1\")"
   ]
  },
  {
   "cell_type": "code",
   "execution_count": null,
   "id": "c12d5c07",
   "metadata": {},
   "outputs": [],
   "source": []
  }
 ],
 "metadata": {
  "kernelspec": {
   "display_name": "Python 3 (ipykernel)",
   "language": "python",
   "name": "python3"
  },
  "language_info": {
   "codemirror_mode": {
    "name": "ipython",
    "version": 3
   },
   "file_extension": ".py",
   "mimetype": "text/x-python",
   "name": "python",
   "nbconvert_exporter": "python",
   "pygments_lexer": "ipython3",
   "version": "3.9.7"
  }
 },
 "nbformat": 4,
 "nbformat_minor": 5
}
